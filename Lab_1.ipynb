{
 "cells": [
  {
   "cell_type": "markdown",
   "metadata": {},
   "source": [
    "<a id=\"top\">Top reference</a>"
   ]
  },
  {
   "cell_type": "markdown",
   "metadata": {},
   "source": [
    "<h1 style=\"font-size:400%;\">Burkina Faso</h1>"
   ]
  },
  {
   "cell_type": "markdown",
   "metadata": {},
   "source": [
    "<h1 style=\"font-size:40px;\">Burkina Faso</h1>"
   ]
  },
  {
   "cell_type": "markdown",
   "metadata": {},
   "source": [
    "<h1 style='font-family:verdana;'>Burkina Faso</h1>"
   ]
  },
  {
   "cell_type": "markdown",
   "metadata": {},
   "source": [
    "<h1> This is \"<span style=\"color:red\">Burkina Faso</span>\" country </h1>"
   ]
  },
  {
   "cell_type": "markdown",
   "metadata": {},
   "source": [
    "<h1 style=\"color:green\">Burkina Faso <span class=\"badge badge-success\">New</span> </h1>"
   ]
  },
  {
   "cell_type": "markdown",
   "metadata": {},
   "source": [
    "<h1 style=\"text-align:center\">Burkina Faso</h1>"
   ]
  },
  {
   "cell_type": "markdown",
   "metadata": {},
   "source": [
    "<p><b>Burkina Faso</b>  is a landlocked country in West Africa</p>"
   ]
  },
  {
   "cell_type": "markdown",
   "metadata": {},
   "source": [
    "<p> <i>Population in 2020 estimate is (21,510,181)</i></p>"
   ]
  },
  {
   "cell_type": "markdown",
   "metadata": {},
   "source": [
    "<p>Burkina Faso covers <ins> an area of around 274,200 square kilometres </ins>(105,900 sq mi)<p>"
   ]
  },
  {
   "cell_type": "markdown",
   "metadata": {},
   "source": [
    "<p>The Government is<mark>Unitary semi-presidential constitutional republic</mark> in Burkina Faso</p>"
   ]
  },
  {
   "cell_type": "markdown",
   "metadata": {},
   "source": [
    "<p style=\"background-color:Gray; color:white\"><b>Culture</b>\" is manifested in all aspects of life in \" <b>Burkina Faso</b>\", but art is closest to the heart of the people. The country boasts a large handicrafts community with artisan centers in Gorom Gorom and Ouagadougou. Burkinabé cuisine closely resembles and is largely influenced by West African food.\"</p>"
   ]
  },
  {
   "cell_type": "markdown",
   "metadata": {},
   "source": [
    "<table>\n",
    "    <tbody>\n",
    "    <tr> \n",
    "        <th colspan=\"11\" style=\"text-align:center;background-color:green;border:4px solid black\"><span style=\"font-size:120%; color:white\"><b>Largest cities or towns in Burkina Fasob</b></span></th></tr>\n",
    "    <tr>\n",
    "        <th colspan=\"11\" style=\"text-align:center;background-color:red;border:4px solid black\"><span style=\"font-size:90%;; color:white\"><i>According to the 2006 Census</i></span></th></tr>\n",
    "    <tr>\n",
    "        <th style=\"text-align:center; border:3px solid black \">Rank</th>\n",
    "        <th style=\"text-align:center; border:3px solid black \">Name</th>\n",
    "        <th style=\"text-align:center; border:3px solid black \">Region</th>\n",
    "        <th style=\"text-align:center; border:3px solid black \">Ppopulation   </th>\n",
    "    </tr>\n",
    "    <tr>\n",
    "        <td style=\"text-align:left;border:2px solid gray\">1</td>\n",
    "        <td style=\"border:1px solid gray\">Ouagadougou</td>\n",
    "        <td style=\"border:1px solid gray\">center</td>\n",
    "        <td style=\"border:1px solid gray\">1,475,223</td>\n",
    "    </tr>\n",
    "    <tr>\n",
    "        <td style=\"text-align:left;border:2px solid gray\">2</td>\n",
    "        <td style=\"border:1px solid gray\">Bobo-Dioulasso</td>\n",
    "        <td style=\"border:1px solid gray\">Hauts-Bassins</td>\n",
    "        <td style=\"border:1px solid gray\">489,967</td>\n",
    "    </tr>\n",
    "    <tr>\n",
    "        <td style=\"text-align:left;border:2px solid gray\">3</td>\n",
    "        <td style=\"border:1px solid gray\">koudougou</td>\n",
    "        <td style=\"border:1px solid gray\">Centre-Ouest</td>\n",
    "        <td style=\"border:1px solid gray\">88,184</td>\n",
    "    </tr>\n",
    "    <tr>\n",
    "        <td style=\"text-align:left;border:2px solid gray\">4</td>\n",
    "        <td style=\"border:1px solid gray\">Banfora</td>\n",
    "        <td style=\"border:1px solid gray\">Cascades</td>\n",
    "        <td style=\"border:1px solid gray\">75,917</td>\n",
    "    </tr>\n",
    "    <tr>\n",
    "        <td style=\"text-align:left;border:2px solid gray\">5</td>\n",
    "        <td style=\"border:1px solid gray\">Ouahigouya</td>\n",
    "        <td style=\"border:1px solid gray\">Nord</td>\n",
    "        <td style=\"border:1px solid gray\">73,153</td>\n",
    "    </tr>\n",
    "    <tr>\n",
    "        <td style=\"text-align:left;border:2px solid gray\">6</td>\n",
    "        <td style=\"border:1px solid gray\">Pouytenga</td>\n",
    "        <td style=\"border:1px solid gray\">Centre-Est</td>\n",
    "        <td style=\"border:1px solid gray\">60,618</td>\n",
    "    </tr>\n",
    "    <tr>\n",
    "        <td style=\"text-align:left;border:2px solid gray\">7</td>\n",
    "        <td style=\"border:1px solid gray\">Kaya</td>\n",
    "        <td style=\"border:1px solid gray\">Centre-Nord</td>\n",
    "        <td style=\"border:1px solid gray\">54,365</td>\n",
    "    </tr>\n",
    "    <tr>\n",
    "        <td style=\"text-align:left;border:2px solid gray\">8</td>\n",
    "        <td style=\"border:1px solid gray\">Tenkodogo</td>\n",
    "        <td style=\"border:1px solid gray\">Centre-Est</td>\n",
    "        <td style=\"border:1px solid gray\">44,491</td>\n",
    "    </tr>\n",
    "    <tr>\n",
    "        <td style=\"text-align:left;border:2px solid gray\">9</td>\n",
    "        <td style=\"border:1px solid gray\">Fada N'gourma</td>\n",
    "        <td style=\"border:1px solid gray\">Est</td>\n",
    "        <td style=\"border:1px solid gray\">41,785</td>\n",
    "    </tr>\n",
    "    <tr>\n",
    "        <td style=\"text-align:left;border:2px solid gray\">10</td>\n",
    "        <td style=\"border:1px solid gray\">Houndé</td>\n",
    "        <td style=\"border:1px solid gray\">Hauts-Bassins</td>\n",
    "        <td style=\"border:1px solid gray\">39,458</td>\n",
    "    </tr>\n",
    "    </tbody>\n",
    "</table>"
   ]
  },
  {
   "cell_type": "markdown",
   "metadata": {},
   "source": [
    "<ins><b style=\"font-size:120%\">Famous people from Burkina Faso</b></ins>"
   ]
  },
  {
   "cell_type": "markdown",
   "metadata": {},
   "source": [
    "<ul style=\"list-style-type:disc;\">\n",
    "  <li>Thomas Sankara <sup>\"Politician\"</sup></li>\n",
    "  <li>Jonathan Pitroipa <sup>\"Soccer Midfielder\"</sup></li>\n",
    "  <li>Blaise Compaoré <sup>\"Politician\"</sup></li>\n",
    "  <li>Bertrand Traoré <sup>\"Soccer Midfielder\"</sup></li>\n",
    "  <li>Alain Traoré <sup>\"Soccer Midfielder\"</sup></li>\n",
    "  <li>Jacky Ido <sup>\"Actor\"</sup></li>\n",
    "</ul>"
   ]
  },
  {
   "cell_type": "markdown",
   "metadata": {},
   "source": [
    "<img src=\"https://medafricatimes.com/wp-content/uploads/2015/05/farmers-burkina-faso.jpg\" style=\"width:auto;height:auto;border:5px solid black\"/>\n",
    "<p style=\"text-align:center\"><ins>Picture of farmers in Borkina faso</ins></p>"
   ]
  },
  {
   "cell_type": "markdown",
   "metadata": {},
   "source": [
    "<img src=https://cdn.webshopapp.com/shops/94414/files/52303074/flag-of-burkina-faso.jpg style=\"width:400px;height:250px;border:3px solid gray;\"/>\n",
    "<p style=\"text-align:center\"><ins><b>Flag of Burkina Faso</b></ins></p>"
   ]
  },
  {
   "cell_type": "markdown",
   "metadata": {},
   "source": [
    "<p style=\"font-size:120%\" >If you want to know more about <ins>Burkina Faso</ins> press <a href=\"https://en.wikipedia.org/wiki/Burkina_Faso#Infrastructure_and_services\" class=\"btn btn-info btn-lg active\" role=\"button\" aria-pressed=\"true\" style=\"color:white;\" target=\"_self\">Here</a></p>"
   ]
  },
  {
   "cell_type": "markdown",
   "metadata": {},
   "source": [
    "<p> To go to the top of the page press <a href=https://nbviewer.jupyter.org/github/feloerain/Python_Lab_1/blob/main/Lab_1.ipynb#top class=\"btn btn-primary btn-lg active\" role=\"button\" aria-pressed=\"true\" style=\"color:white;\" target=\"_self\">here</a>"
   ]
  }
 ],
 "metadata": {
  "kernelspec": {
   "display_name": "Python 3",
   "language": "python",
   "name": "python3"
  },
  "language_info": {
   "codemirror_mode": {
    "name": "ipython",
    "version": 3
   },
   "file_extension": ".py",
   "mimetype": "text/x-python",
   "name": "python",
   "nbconvert_exporter": "python",
   "pygments_lexer": "ipython3",
   "version": "3.8.5"
  }
 },
 "nbformat": 4,
 "nbformat_minor": 4
}
